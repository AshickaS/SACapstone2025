{
  "nbformat": 4,
  "nbformat_minor": 0,
  "metadata": {
    "colab": {
      "provenance": [],
      "authorship_tag": "ABX9TyMDr9h0/Q3MZjQG+R/AUMZ9",
      "include_colab_link": true
    },
    "kernelspec": {
      "name": "python3",
      "display_name": "Python 3"
    },
    "language_info": {
      "name": "python"
    }
  },
  "cells": [
    {
      "cell_type": "markdown",
      "metadata": {
        "id": "view-in-github",
        "colab_type": "text"
      },
      "source": [
        "<a href=\"https://colab.research.google.com/github/AshickaS/SACapstone2025/blob/main/dynamic_parking_pricing_notebook.ipynb\" target=\"_parent\"><img src=\"https://colab.research.google.com/assets/colab-badge.svg\" alt=\"Open In Colab\"/></a>"
      ]
    },
    {
      "cell_type": "markdown",
      "source": [
        "#Dynamic Pricing for Urban Parking Lots\n",
        "\n",
        "## 1. Background and Motivation\n",
        "\n",
        "Urban parking spaces are a limited and highly demanded resource. Prices that remain static throughout the day can lead to inefficiencies — either overcrowding or underutilization. To improve utilization, dynamic pricing based on demand, competition, and real-time\n",
        "conditions is crucial.\n",
        "\n",
        "This project simulates such a system: participants will create an intelligent, data-driven pricing engine for 14 parking spaces using real-time data streams, basic economic theory, and ML models built from scratch, using only ```numpy```, ```pandas``` libraries.\n",
        "\n",
        "## 2. Project Objective\n",
        "Our goal is to build a dynamic pricing model for each parking space such that:\n",
        "\n",
        "- The price is realistically updated in real-time based on:\n",
        " - Historical occupancy patterns\n",
        " - Queue length\n",
        " - Nearby traffic\n",
        " - Special events\n",
        " - Vehicle type\n",
        " - Competitor parking prices\n",
        "- It starts from a base price of $10\n",
        "- The price variation is smooth and explainable, not erratic\n",
        "- Optional: The system suggests rerouting vehicles to nearby lots if the current lot is overburdened."
      ],
      "metadata": {
        "id": "g95oq2j8_jfu"
      }
    },
    {
      "cell_type": "markdown",
      "source": [
        "## Step 0: Install and Import the Libraries"
      ],
      "metadata": {
        "id": "YmLA00E6EhV3"
      }
    },
    {
      "cell_type": "code",
      "source": [
        "!pip install pathway bokeh --quiet"
      ],
      "metadata": {
        "id": "3Idx0RvuBVUk"
      },
      "execution_count": null,
      "outputs": []
    },
    {
      "cell_type": "code",
      "execution_count": null,
      "metadata": {
        "id": "3GjHgzjp_i00"
      },
      "outputs": [],
      "source": [
        "import pandas as pd\n",
        "import pathway as pw\n",
        "from datetime import timedelta\n",
        "from datetime import datetime as dt_datetime\n",
        "import panel as pn\n",
        "from bokeh.plotting import figure#, show\n",
        "# from bokeh.models import ColumnDataSource, DatetimeTickFormatter\n",
        "# from bokeh.io import show, output_notebook"
      ]
    },
    {
      "cell_type": "markdown",
      "source": [
        "## Step 1: Importing and Preprocessing the Data"
      ],
      "metadata": {
        "id": "6SSLroHXCCY1"
      }
    },
    {
      "cell_type": "code",
      "source": [
        "sheet_id = '1RqHF3zphAFOtYZgReDJUxEFweOiVAxqP' #original sheet\n",
        "#sheet_id = '1D479FLjp9aO3Mg8g6Lpj9oRViWacurA6' #sample sheet\n",
        "sheet_url = f\"https://drive.google.com/uc?id={sheet_id}\"\n",
        "# Create the DataFrame\n",
        "df = pd.read_csv(sheet_url)\n",
        "\n",
        "df.head()"
      ],
      "metadata": {
        "id": "fCcjJ-gTCOAT"
      },
      "execution_count": null,
      "outputs": []
    },
    {
      "cell_type": "code",
      "source": [
        " # Check the distinct str values of TrafficConditionNearby to later convert in to numerical\n",
        " df['TrafficConditionNearby'].unique()"
      ],
      "metadata": {
        "id": "lzGEuTMWeBUU"
      },
      "execution_count": null,
      "outputs": []
    },
    {
      "cell_type": "code",
      "source": [
        "# Check the distinct str values of VehicleType to later convert it to numerical\n",
        "df['VehicleType'].unique()"
      ],
      "metadata": {
        "id": "2tjI6FyieIrs"
      },
      "execution_count": null,
      "outputs": []
    },
    {
      "cell_type": "code",
      "source": [
        "# Combine the 'LastUpdatedDate' and 'LastUpdatedTime' columns into a single datetime column\n",
        "df['Timestamp'] = pd.to_datetime(df['LastUpdatedDate'] + ' ' + df['LastUpdatedTime'],\n",
        "                                  format='%d-%m-%Y %H:%M:%S')\n",
        "\n",
        "# Sort the DataFrame by the new 'Timestamp' column and reset the index\n",
        "df = df.sort_values('Timestamp').reset_index(drop=True)\n",
        "# Display the Dataframe details\n",
        "df.info()"
      ],
      "metadata": {
        "id": "9e-13pvUGIma"
      },
      "execution_count": null,
      "outputs": []
    },
    {
      "cell_type": "code",
      "source": [
        "# Select all relevant columns that will be streamed for the models\n",
        "##### This list include everything needed for Model 2 and Model 3\n",
        "stream_cols = [\n",
        "    'Timestamp',          # For time-series analysis and Pathway replay\n",
        "    'SystemCodeNumber',   # To identify individual parking lots\n",
        "    'Capacity',           # For occupancy rate\n",
        "    'Occupancy',          # For occupancy rate\n",
        "    'QueueLength',        # For Model 2 demand function\n",
        "    'TrafficConditionNearby', # For Model 2 demand function\n",
        "    'IsSpecialDay',       # For Model 2 demand function\n",
        "    'VehicleType',        # For Model 2 demand function\n",
        "    'Latitude',           # For Model 3 proximity\n",
        "    'Longitude'           # For Model 3 proximity\n",
        "]\n",
        "stream_df = df[stream_cols].copy()\n",
        "\n",
        "stream_df"
      ],
      "metadata": {
        "id": "fitWCecOX9sL"
      },
      "execution_count": null,
      "outputs": []
    },
    {
      "cell_type": "code",
      "source": [
        "# Save the prepared DataFrame to a CSV file that Pathway will replay\n",
        "stream_file_name = \"parking_stream_full.csv\"\n",
        "stream_df.to_csv(stream_file_name, index=False)"
      ],
      "metadata": {
        "id": "9YuMEgO1kZ2-"
      },
      "execution_count": null,
      "outputs": []
    },
    {
      "cell_type": "markdown",
      "source": [
        "## Step 2: Defining Pathway Schema and Ingesting Data Stream"
      ],
      "metadata": {
        "id": "RKrwMF1fIdBu"
      }
    },
    {
      "cell_type": "code",
      "source": [
        "# Define the schema for the streaming data using Pathway\n",
        "class ParkingSchema(pw.Schema):\n",
        "    Timestamp: str\n",
        "    SystemCodeNumber: str\n",
        "    Capacity: int\n",
        "    Occupancy: int\n",
        "    QueueLength: int\n",
        "    TrafficConditionNearby: str\n",
        "    IsSpecialDay: int\n",
        "    VehicleType: str\n",
        "    Latitude: float\n",
        "    Longitude: float"
      ],
      "metadata": {
        "id": "lKgm-hi7IgSt"
      },
      "execution_count": null,
      "outputs": []
    },
    {
      "cell_type": "code",
      "source": [
        "# Ingest the prepared CSV file as a simulated real-time stream using Pathway\n",
        "# The 'input_rate' simulates how fast new records arrive (e.g., 1000 rows/second)\n",
        "parking_stream = pw.demo.replay_csv(\n",
        "    \"parking_stream_full.csv\",\n",
        "    schema=ParkingSchema,\n",
        "    input_rate=1000 # Adjust this value to control simulation speed\n",
        ")"
      ],
      "metadata": {
        "id": "jH9dMzK5NgjP"
      },
      "execution_count": null,
      "outputs": []
    },
    {
      "cell_type": "code",
      "source": [
        "@pw.udf\n",
        "def map_traffic_to_numeric_udf(traffic_str: str) -> float:\n",
        "    \"\"\"Maps traffic condition strings to numerical values.\"\"\"\n",
        "    return {\"low\": 0.0, \"average\": 1.0, \"high\": 2.0}.get(traffic_str.lower(), 0.0)\n",
        "\n",
        "@pw.udf\n",
        "def map_vehicle_type_to_weight_udf(vehicle_type_str: str) -> float:\n",
        "    \"\"\"Maps vehicle type strings to numerical weights.\"\"\"\n",
        "    return {\"car\": 1.0, \"cycle\": 0.7, \"bike\": 0.5, \"truck\": 1.5}.get(vehicle_type_str.lower(), 1.0)\n"
      ],
      "metadata": {
        "id": "L0rV4MsYNj-u"
      },
      "execution_count": null,
      "outputs": []
    },
    {
      "cell_type": "code",
      "source": [
        "parking_stream = parking_stream.with_columns(\n",
        "    t=pw.this.Timestamp.dt.strptime('%Y-%m-%d %H:%M:%S'),\n",
        "    day = pw.this.Timestamp.dt.strptime('%Y-%m-%d %H:%M:%S').dt.strftime(\"%Y-%m-%dT00:00:00\"),\n",
        "    # Convert categorical 'TrafficConditionNearby' to a numerical value\n",
        "    TrafficNumeric=map_traffic_to_numeric_udf(pw.this.TrafficConditionNearby),\n",
        "    # Convert categorical 'VehicleType' to a numerical value\n",
        "    VehicleTypeWeight=map_vehicle_type_to_weight_udf(pw.this.VehicleType),\n",
        "    OccupancyRate=pw.this.Occupancy / pw.this.Capacity\n",
        ")\n",
        "\n",
        "# parking_stream.select(\n",
        "#     pw.this.Timestamp, pw.this.t, pw.this.day,\n",
        "#     pw.this.TrafficNumeric, pw.this.VehicleTypeWeight, pw.this.OccupancyRate\n",
        "# ).print(max_rows=5)"
      ],
      "metadata": {
        "id": "eMJzya92Qhw9"
      },
      "execution_count": null,
      "outputs": []
    },
    {
      "cell_type": "markdown",
      "source": [
        "## Step 3: Implementing Model 1 (Baseline Linear Model)"
      ],
      "metadata": {
        "id": "J96IPNS-YbHD"
      }
    },
    {
      "cell_type": "code",
      "source": [
        "print(\"Defining Model 1: Baseline Linear Model.\")\n",
        "\n",
        "base_price_model1 = 10.0\n",
        "alpha_model1 = 5.0\n",
        "\n",
        "delta_window = (\n",
        "    parking_stream.windowby(\n",
        "        pw.this.t,\n",
        "        instance=(pw.this.day, pw.this.SystemCodeNumber),\n",
        "        window=pw.temporal.tumbling(timedelta(days=1)),\n",
        "        behavior=pw.temporal.exactly_once_behavior()\n",
        "    )\n",
        "    .reduce(\n",
        "        t=pw.this._pw_window_end,\n",
        "        occ_max=pw.reducers.max(pw.this.Occupancy),      # Highest occupancy observed in the window\n",
        "        occ_min=pw.reducers.min(pw.this.Occupancy),      # Lowest occupancy observed in the window\n",
        "        cap=pw.reducers.max(pw.this.Capacity),           # Maximum capacity observed (typically constant per spot)\n",
        "    )\n",
        "    .with_columns(\n",
        "        price=base_price_model1 + (pw.this.occ_max - pw.this.occ_min) / pw.this.cap\n",
        "    )\n",
        ")\n",
        "\n",
        "print(\"Dynamic pricing window (delta_window) and price calculation defined.\")\n",
        "# Inspect the schema of the new delta_window stream\n",
        "# print(\"\\nSchema of delta_window:\")\n",
        "# print(delta_window.schema)"
      ],
      "metadata": {
        "id": "-tG_OmrzyNIX"
      },
      "execution_count": null,
      "outputs": []
    },
    {
      "cell_type": "markdown",
      "source": [
        "## Step 4: Visualizing Daily Price Fluctuations with a Bokeh Plot"
      ],
      "metadata": {
        "id": "KKOLEHIl9VVo"
      }
    },
    {
      "cell_type": "code",
      "source": [
        "# Activate the Panel extension to enable interactive visualizations\n",
        "pn.extension()\n",
        "\n",
        "# Define a custom Bokeh plotting function that takes a data source (from Pathway) and returns a figure\n",
        "def price_plotter(source):\n",
        "    # Create a Bokeh figure with datetime x-axis\n",
        "    fig = figure(\n",
        "        height=400,\n",
        "        width=800,\n",
        "        title=\"Pathway: Daily Parking Price\",\n",
        "        x_axis_type=\"datetime\",  # Ensure time-based data is properly formatted on the x-axis\n",
        "    )\n",
        "    # Plot a line graph showing how the price evolves over time\n",
        "    fig.line(\"t\", \"price\", source=source, line_width=2, color=\"navy\")\n",
        "\n",
        "    # Overlay red circles at each data point for better visibility\n",
        "    fig.circle(\"t\", \"price\", source=source, size=6, color=\"red\")\n",
        "\n",
        "    return fig\n",
        "\n",
        "# Use Pathway's built-in .plot() method to bind the data stream (delta_window) to the Bokeh plot\n",
        "# - 'price_plotter' is the rendering function\n",
        "# - 'sorting_col=\"t\"' ensures the data is plotted in time order\n",
        "viz = delta_window.plot(price_plotter, sorting_col=\"t\")\n",
        "\n",
        "# Create a Panel layout and make it servable as a web app\n",
        "# This line enables the interactive plot to be displayed when the app is served\n",
        "pn.Column(viz).servable()"
      ],
      "metadata": {
        "id": "IATvgkjcHr-V"
      },
      "execution_count": null,
      "outputs": []
    },
    {
      "cell_type": "code",
      "source": [
        "# Start the Pathway pipeline execution in the background\n",
        "# - This triggers the real-time data stream processing defined above\n",
        "# - %%capture --no-display suppresses output in the notebook interface\n",
        "\n",
        "%%capture --no-display\n",
        "pw.run()"
      ],
      "metadata": {
        "id": "L1r0MTLX9ssn"
      },
      "execution_count": null,
      "outputs": []
    }
  ]
}